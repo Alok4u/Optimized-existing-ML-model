{
  "nbformat": 4,
  "nbformat_minor": 0,
  "metadata": {
    "colab": {
      "provenance": [],
      "gpuType": "T4"
    },
    "kernelspec": {
      "name": "python3",
      "display_name": "Python 3"
    },
    "language_info": {
      "name": "python"
    },
    "accelerator": "GPU"
  },
  "cells": [
    {
      "cell_type": "code",
      "execution_count": 1,
      "metadata": {
        "colab": {
          "base_uri": "https://localhost:8080/"
        },
        "id": "omuZsigAWXmd",
        "outputId": "faa846c8-dfe5-4016-9fcb-7d15912ef583"
      },
      "outputs": [
        {
          "output_type": "stream",
          "name": "stdout",
          "text": [
            "Downloading data from https://www.cs.toronto.edu/~kriz/cifar-10-python.tar.gz\n",
            "170498071/170498071 [==============================] - 4s 0us/step\n",
            "Epoch 1/10\n",
            "625/625 [==============================] - 15s 7ms/step - loss: 1.6122 - accuracy: 0.4054 - val_loss: 1.3451 - val_accuracy: 0.5226\n",
            "Epoch 2/10\n",
            "625/625 [==============================] - 3s 5ms/step - loss: 1.2505 - accuracy: 0.5530 - val_loss: 1.1731 - val_accuracy: 0.5936\n",
            "Epoch 3/10\n",
            "625/625 [==============================] - 3s 5ms/step - loss: 1.1011 - accuracy: 0.6098 - val_loss: 1.0653 - val_accuracy: 0.6199\n",
            "Epoch 4/10\n",
            "625/625 [==============================] - 3s 5ms/step - loss: 1.0083 - accuracy: 0.6443 - val_loss: 1.0053 - val_accuracy: 0.6453\n",
            "Epoch 5/10\n",
            "625/625 [==============================] - 4s 6ms/step - loss: 0.9376 - accuracy: 0.6740 - val_loss: 1.0785 - val_accuracy: 0.6211\n",
            "Epoch 6/10\n",
            "625/625 [==============================] - 3s 5ms/step - loss: 0.8820 - accuracy: 0.6890 - val_loss: 0.9376 - val_accuracy: 0.6728\n",
            "Epoch 7/10\n",
            "625/625 [==============================] - 3s 5ms/step - loss: 0.8265 - accuracy: 0.7099 - val_loss: 0.9312 - val_accuracy: 0.6730\n",
            "Epoch 8/10\n",
            "625/625 [==============================] - 4s 6ms/step - loss: 0.7850 - accuracy: 0.7268 - val_loss: 0.9474 - val_accuracy: 0.6774\n",
            "Epoch 9/10\n",
            "625/625 [==============================] - 3s 5ms/step - loss: 0.7442 - accuracy: 0.7383 - val_loss: 0.9016 - val_accuracy: 0.6897\n",
            "Epoch 10/10\n",
            "625/625 [==============================] - 3s 5ms/step - loss: 0.7067 - accuracy: 0.7517 - val_loss: 0.9031 - val_accuracy: 0.6920\n",
            "313/313 [==============================] - 1s 3ms/step - loss: 0.9164 - accuracy: 0.6859\n",
            "Test accuracy: 68.59%\n"
          ]
        }
      ],
      "source": [
        "import numpy as np\n",
        "import tensorflow as tf\n",
        "from tensorflow import keras\n",
        "from tensorflow.keras.datasets import cifar10\n",
        "from tensorflow.keras.models import Sequential\n",
        "from tensorflow.keras.layers import Conv2D, MaxPooling2D, Flatten, Dense, Dropout\n",
        "from tensorflow.keras.utils import to_categorical\n",
        "\n",
        "# Load CIFAR-10 dataset\n",
        "(x_train, y_train), (x_test, y_test) = cifar10.load_data()\n",
        "\n",
        "# Normalize pixel values to be between 0 and 1\n",
        "x_train = x_train.astype('float32') / 255\n",
        "x_test = x_test.astype('float32') / 255\n",
        "\n",
        "# One-hot encode the labels\n",
        "y_train = to_categorical(y_train, 10)\n",
        "y_test = to_categorical(y_test, 10)\n",
        "\n",
        "# Create a simple CNN model\n",
        "model = Sequential()\n",
        "model.add(Conv2D(32, (3, 3), activation='relu', input_shape=(32, 32, 3)))\n",
        "model.add(MaxPooling2D((2, 2)))\n",
        "model.add(Conv2D(64, (3, 3), activation='relu'))\n",
        "model.add(MaxPooling2D((2, 2)))\n",
        "model.add(Conv2D(64, (3, 3), activation='relu'))\n",
        "model.add(Flatten())\n",
        "model.add(Dense(64, activation='relu'))\n",
        "model.add(Dense(10, activation='softmax'))\n",
        "\n",
        "# Compile the model\n",
        "model.compile(optimizer='adam', loss='categorical_crossentropy', metrics=['accuracy'])\n",
        "\n",
        "# Train the model\n",
        "model.fit(x_train, y_train, epochs=10, batch_size=64, validation_split=0.2)\n",
        "\n",
        "# Evaluate the model on the test set\n",
        "test_loss, test_acc = model.evaluate(x_test, y_test)\n",
        "print(f'Test accuracy: {test_acc*100:.2f}%')\n"
      ]
    }
  ]
}